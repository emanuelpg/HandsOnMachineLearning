{
 "cells": [
  {
   "cell_type": "markdown",
   "id": "92735b3a",
   "metadata": {},
   "source": [
    "# Dimensionality Reduction"
   ]
  },
  {
   "cell_type": "markdown",
   "id": "455a445e",
   "metadata": {},
   "source": [
    "## Principal Component Analysis (PCA)"
   ]
  },
  {
   "cell_type": "markdown",
   "id": "8bab03d4",
   "metadata": {},
   "source": [
    "#### Singular Value Decomposition (SVD)\n",
    "$X = U\\sum V^{T}\\newline$\n",
    "V contains all the principal components"
   ]
  },
  {
   "cell_type": "markdown",
   "id": "93e31984",
   "metadata": {},
   "source": [
    "#### Principal Components matrix\n",
    "$V = \\begin{pmatrix}\n",
    "| & | & & |\\\\\n",
    "c_1 & c_2 & ... & c_2\\\\\n",
    "| & | & & |\n",
    "\\end{pmatrix}$"
   ]
  },
  {
   "cell_type": "code",
   "execution_count": 1,
   "id": "55a12562",
   "metadata": {},
   "outputs": [],
   "source": [
    "import numpy as np\n",
    "import matplotlib.pyplot as plt"
   ]
  },
  {
   "cell_type": "code",
   "execution_count": 2,
   "id": "9c3a1efc",
   "metadata": {},
   "outputs": [],
   "source": [
    "x = np.arange(0, 101)\n",
    "y = []\n",
    "for elem in x:\n",
    "    y.append(2*elem + 50*np.random.rand())\n",
    "\n",
    "y = np.array(y)\n",
    "X = np.array([x, y])"
   ]
  },
  {
   "cell_type": "code",
   "execution_count": 3,
   "id": "421c80f9",
   "metadata": {},
   "outputs": [],
   "source": [
    "X_centered = X - X.mean(axis=0)\n",
    "U, s, Vt = np.linalg.svd(X_centered)\n",
    "c1 = Vt.T[:, 0]\n",
    "c2 = Vt.T[:, 1]"
   ]
  },
  {
   "cell_type": "code",
   "execution_count": 4,
   "id": "a94efaf8",
   "metadata": {},
   "outputs": [
    {
     "data": {
      "text/plain": [
       "<matplotlib.collections.PathCollection at 0x7f9040a4cd90>"
      ]
     },
     "execution_count": 4,
     "metadata": {},
     "output_type": "execute_result"
    },
    {
     "data": {
      "image/png": "[encoded data removed]",
      "text/plain": [
       "<Figure size 640x480 with 1 Axes>"
      ]
     },
     "metadata": {},
     "output_type": "display_data"
    }
   ],
   "source": [
    "plt.scatter(x, y, s=1.4, marker='.')"
   ]
  },
  {
   "cell_type": "code",
   "execution_count": 5,
   "id": "75ef411d",
   "metadata": {},
   "outputs": [
    {
     "name": "stdout",
     "output_type": "stream",
     "text": [
      "[0.02743998 0.01731831 0.03930302 0.01654531 0.04339092 0.02794426\n",
      " 0.01091614 0.03610841 0.05516992 0.07090563 0.05618088 0.04159978\n",
      " 0.06133946 0.02802467 0.03621718 0.03118953 0.03716259 0.03205873\n",
      " 0.07732762 0.0454699  0.06538578 0.0798121  0.04725859 0.04201537\n",
      " 0.02906985 0.05697006 0.0503417  0.06365071 0.07214065 0.0473394\n",
      " 0.03672909 0.09409374 0.06738824 0.05067815 0.09192393 0.09327355\n",
      " 0.07245686 0.04625133 0.05944553 0.08244162 0.06668623 0.09225774\n",
      " 0.09781475 0.10819257 0.10225614 0.10590002 0.06198044 0.08890726\n",
      " 0.06998103 0.06314748 0.07191013 0.09642896 0.115452   0.06874614\n",
      " 0.11499626 0.12218087 0.12248742 0.08067911 0.11817224 0.10613916\n",
      " 0.10663155 0.13258323 0.12300383 0.1206327  0.09704422 0.12255891\n",
      " 0.1242555  0.12947964 0.09482782 0.09492914 0.13215597 0.11907073\n",
      " 0.09980414 0.12048735 0.13588053 0.09378584 0.13093723 0.1415705\n",
      " 0.15241129 0.11761324 0.11372424 0.14541841 0.10147559 0.13598928\n",
      " 0.15256648 0.11216699 0.11084516 0.14015618 0.12488195 0.10988149\n",
      " 0.14627909 0.16066158 0.16925781 0.16297806 0.15624137 0.13006169\n",
      " 0.12548546 0.11790211 0.16818291 0.16091651 0.13071313]\n"
     ]
    }
   ],
   "source": [
    "print(c1)"
   ]
  },
  {
   "cell_type": "markdown",
   "id": "407c1905",
   "metadata": {},
   "source": [
    "#### Projecting Down to d Dimensions\n",
    "$X_{d-proj} = XW_d$"
   ]
  },
  {
   "cell_type": "code",
   "execution_count": 6,
   "id": "b37addf9",
   "metadata": {},
   "outputs": [],
   "source": [
    "W1 = Vt.T[:, :2]\n",
    "X1D = X_centered.dot(W1)"
   ]
  },
  {
   "cell_type": "code",
   "execution_count": 7,
   "id": "1eeae1da",
   "metadata": {},
   "outputs": [
    {
     "name": "stdout",
     "output_type": "stream",
     "text": [
      "[[-4.15441468e+02  4.61767702e-14]\n",
      " [ 4.15441468e+02  4.66666464e-15]]\n"
     ]
    }
   ],
   "source": [
    "print(X1D)"
   ]
  },
  {
   "cell_type": "code",
   "execution_count": 8,
   "id": "ea91a974",
   "metadata": {},
   "outputs": [],
   "source": [
    "from sklearn.decomposition import PCA\n",
    "\n",
    "pca = PCA(n_components=2)\n",
    "X2D = pca.fit_transform(X)"
   ]
  },
  {
   "cell_type": "code",
   "execution_count": 9,
   "id": "bd89a296",
   "metadata": {},
   "outputs": [
    {
     "data": {
      "text/plain": [
       "array([1.00000000e+00, 3.43909334e-32])"
      ]
     },
     "execution_count": 9,
     "metadata": {},
     "output_type": "execute_result"
    }
   ],
   "source": [
    "pca.explained_variance_ratio_"
   ]
  },
  {
   "cell_type": "markdown",
   "id": "83425338",
   "metadata": {},
   "source": [
    "### Chosing the Right Number of Dimensions"
   ]
  },
  {
   "cell_type": "code",
   "execution_count": 10,
   "id": "9c2812c5",
   "metadata": {},
   "outputs": [],
   "source": [
    "from sklearn.datasets import load_digits\n",
    "\n",
    "mnist = load_digits()"
   ]
  },
  {
   "cell_type": "code",
   "execution_count": 11,
   "id": "657bc148",
   "metadata": {},
   "outputs": [],
   "source": [
    "from sklearn.model_selection import train_test_split\n",
    "\n",
    "X_train, X_test, y_train, y_test = train_test_split(mnist['data'], mnist['target'], test_size=0.25)"
   ]
  },
  {
   "cell_type": "code",
   "execution_count": 12,
   "id": "372fdf95",
   "metadata": {},
   "outputs": [],
   "source": [
    "pca = PCA()\n",
    "pca.fit(X_train)\n",
    "cumsum = np.cumsum(pca.explained_variance_ratio_)\n",
    "d = np.argmax(cumsum >= 0.95) + 1"
   ]
  },
  {
   "cell_type": "code",
   "execution_count": 13,
   "id": "780d3beb",
   "metadata": {},
   "outputs": [
    {
     "name": "stdout",
     "output_type": "stream",
     "text": [
      "28\n"
     ]
    }
   ],
   "source": [
    "print(d)"
   ]
  },
  {
   "cell_type": "code",
   "execution_count": 14,
   "id": "0b01cc79",
   "metadata": {},
   "outputs": [
    {
     "data": {
      "text/html": [
       "<style>#sk-container-id-1 {color: black;background-color: white;}#sk-container-id-1 pre{padding: 0;}#sk-container-id-1 div.sk-toggleable {background-color: white;}#sk-container-id-1 label.sk-toggleable__label {cursor: pointer;display: block;width: 100%;margin-bottom: 0;padding: 0.3em;box-sizing: border-box;text-align: center;}#sk-container-id-1 label.sk-toggleable__label-arrow:before {content: \"▸\";float: left;margin-right: 0.25em;color: #696969;}#sk-container-id-1 label.sk-toggleable__label-arrow:hover:before {color: black;}#sk-container-id-1 div.sk-estimator:hover label.sk-toggleable__label-arrow:before {color: black;}#sk-container-id-1 div.sk-toggleable__content {max-height: 0;max-width: 0;overflow: hidden;text-align: left;background-color: #f0f8ff;}#sk-container-id-1 div.sk-toggleable__content pre {margin: 0.2em;color: black;border-radius: 0.25em;background-color: #f0f8ff;}#sk-container-id-1 input.sk-toggleable__control:checked~div.sk-toggleable__content {max-height: 200px;max-width: 100%;overflow: auto;}#sk-container-id-1 input.sk-toggleable__control:checked~label.sk-toggleable__label-arrow:before {content: \"▾\";}#sk-container-id-1 div.sk-estimator input.sk-toggleable__control:checked~label.sk-toggleable__label {background-color: #d4ebff;}#sk-container-id-1 div.sk-label input.sk-toggleable__control:checked~label.sk-toggleable__label {background-color: #d4ebff;}#sk-container-id-1 input.sk-hidden--visually {border: 0;clip: rect(1px 1px 1px 1px);clip: rect(1px, 1px, 1px, 1px);height: 1px;margin: -1px;overflow: hidden;padding: 0;position: absolute;width: 1px;}#sk-container-id-1 div.sk-estimator {font-family: monospace;background-color: #f0f8ff;border: 1px dotted black;border-radius: 0.25em;box-sizing: border-box;margin-bottom: 0.5em;}#sk-container-id-1 div.sk-estimator:hover {background-color: #d4ebff;}#sk-container-id-1 div.sk-parallel-item::after {content: \"\";width: 100%;border-bottom: 1px solid gray;flex-grow: 1;}#sk-container-id-1 div.sk-label:hover label.sk-toggleable__label {background-color: #d4ebff;}#sk-container-id-1 div.sk-serial::before {content: \"\";position: absolute;border-left: 1px solid gray;box-sizing: border-box;top: 0;bottom: 0;left: 50%;z-index: 0;}#sk-container-id-1 div.sk-serial {display: flex;flex-direction: column;align-items: center;background-color: white;padding-right: 0.2em;padding-left: 0.2em;position: relative;}#sk-container-id-1 div.sk-item {position: relative;z-index: 1;}#sk-container-id-1 div.sk-parallel {display: flex;align-items: stretch;justify-content: center;background-color: white;position: relative;}#sk-container-id-1 div.sk-item::before, #sk-container-id-1 div.sk-parallel-item::before {content: \"\";position: absolute;border-left: 1px solid gray;box-sizing: border-box;top: 0;bottom: 0;left: 50%;z-index: -1;}#sk-container-id-1 div.sk-parallel-item {display: flex;flex-direction: column;z-index: 1;position: relative;background-color: white;}#sk-container-id-1 div.sk-parallel-item:first-child::after {align-self: flex-end;width: 50%;}#sk-container-id-1 div.sk-parallel-item:last-child::after {align-self: flex-start;width: 50%;}#sk-container-id-1 div.sk-parallel-item:only-child::after {width: 0;}#sk-container-id-1 div.sk-dashed-wrapped {border: 1px dashed gray;margin: 0 0.4em 0.5em 0.4em;box-sizing: border-box;padding-bottom: 0.4em;background-color: white;}#sk-container-id-1 div.sk-label label {font-family: monospace;font-weight: bold;display: inline-block;line-height: 1.2em;}#sk-container-id-1 div.sk-label-container {text-align: center;}#sk-container-id-1 div.sk-container {/* jupyter's `normalize.less` sets `[hidden] { display: none; }` but bootstrap.min.css set `[hidden] { display: none !important; }` so we also need the `!important` here to be able to override the default hidden behavior on the sphinx rendered scikit-learn.org. See: https://github.com/scikit-learn/scikit-learn/issues/21755 */display: inline-block !important;position: relative;}#sk-container-id-1 div.sk-text-repr-fallback {display: none;}</style><div id=\"sk-container-id-1\" class=\"sk-top-container\"><div class=\"sk-text-repr-fallback\"><pre>PCA(n_components=29)</pre><b>In a Jupyter environment, please rerun this cell to show the HTML representation or trust the notebook. <br />On GitHub, the HTML representation is unable to render, please try loading this page with nbviewer.org.</b></div><div class=\"sk-container\" hidden><div class=\"sk-item\"><div class=\"sk-estimator sk-toggleable\"><input class=\"sk-toggleable__control sk-hidden--visually\" id=\"sk-estimator-id-1\" type=\"checkbox\" checked><label for=\"sk-estimator-id-1\" class=\"sk-toggleable__label sk-toggleable__label-arrow\">PCA</label><div class=\"sk-toggleable__content\"><pre>PCA(n_components=29)</pre></div></div></div></div></div>"
      ],
      "text/plain": [
       "PCA(n_components=29)"
      ]
     },
     "execution_count": 14,
     "metadata": {},
     "output_type": "execute_result"
    }
   ],
   "source": [
    "pca = PCA(n_components=29)\n",
    "pca.fit(X_train)"
   ]
  },
  {
   "cell_type": "code",
   "execution_count": 15,
   "id": "a7eb8af2",
   "metadata": {},
   "outputs": [
    {
     "data": {
      "text/plain": [
       "array([0.1471309 , 0.13579056, 0.11716731, 0.08240232, 0.06025005,\n",
       "       0.04817319, 0.04507598, 0.03699979, 0.03373559, 0.03123493,\n",
       "       0.02375215, 0.02291488, 0.01848695, 0.01780088, 0.01502502,\n",
       "       0.01422981, 0.01268302, 0.01244511, 0.01027083, 0.00918419,\n",
       "       0.00876366, 0.00791095, 0.00758564, 0.00751155, 0.00706756,\n",
       "       0.00610587, 0.00577733, 0.00515106, 0.00479358])"
      ]
     },
     "execution_count": 15,
     "metadata": {},
     "output_type": "execute_result"
    }
   ],
   "source": [
    "pca.explained_variance_ratio_"
   ]
  },
  {
   "cell_type": "code",
   "execution_count": 16,
   "id": "880d1f7c",
   "metadata": {},
   "outputs": [],
   "source": [
    "pca = PCA(n_components=0.95)\n",
    "X_reduced = pca.fit_transform(X_train)"
   ]
  },
  {
   "cell_type": "code",
   "execution_count": 17,
   "id": "9675dc5a",
   "metadata": {},
   "outputs": [
    {
     "data": {
      "text/plain": [
       "array([0.1471309 , 0.13579056, 0.11716731, 0.08240232, 0.06025005,\n",
       "       0.04817319, 0.04507598, 0.03699979, 0.03373559, 0.03123493,\n",
       "       0.02375215, 0.02291488, 0.01848695, 0.01780088, 0.01502502,\n",
       "       0.01422981, 0.01268302, 0.01244511, 0.01027084, 0.00918419,\n",
       "       0.00876366, 0.00791095, 0.00758566, 0.00751159, 0.00706762,\n",
       "       0.00610588, 0.00577735, 0.00515115])"
      ]
     },
     "execution_count": 17,
     "metadata": {},
     "output_type": "execute_result"
    }
   ],
   "source": [
    "pca.explained_variance_ratio_"
   ]
  },
  {
   "cell_type": "code",
   "execution_count": 18,
   "id": "11c9c340",
   "metadata": {},
   "outputs": [
    {
     "name": "stdout",
     "output_type": "stream",
     "text": [
      "64\n"
     ]
    }
   ],
   "source": [
    "print(mnist.data.shape[1])"
   ]
  },
  {
   "cell_type": "code",
   "execution_count": 19,
   "id": "fc4a2303",
   "metadata": {},
   "outputs": [
    {
     "data": {
      "text/plain": [
       "[<matplotlib.lines.Line2D at 0x7f9029a0ba90>]"
      ]
     },
     "execution_count": 19,
     "metadata": {},
     "output_type": "execute_result"
    },
    {
     "data": {
      "image/png": "[encoded data removed]",
      "text/plain": [
       "<Figure size 640x480 with 1 Axes>"
      ]
     },
     "metadata": {},
     "output_type": "display_data"
    }
   ],
   "source": [
    "plt.plot(np.arange(mnist.data.shape[1]), cumsum)"
   ]
  },
  {
   "cell_type": "markdown",
   "id": "0c099e87",
   "metadata": {},
   "source": [
    "### PCA for Compression"
   ]
  },
  {
   "cell_type": "code",
   "execution_count": 20,
   "id": "e8471edc",
   "metadata": {},
   "outputs": [
    {
     "data": {
      "text/plain": [
       "(1347, 28)"
      ]
     },
     "execution_count": 20,
     "metadata": {},
     "output_type": "execute_result"
    }
   ],
   "source": [
    "X_reduced.shape"
   ]
  },
  {
   "cell_type": "markdown",
   "id": "d6af9b2d",
   "metadata": {},
   "source": [
    "#### PCA inverse transformation, back to the original number of dimensions\n",
    "$X_{recovered} = X_{d-proj}W_d^{T}$"
   ]
  },
  {
   "cell_type": "code",
   "execution_count": 21,
   "id": "f3a9d550",
   "metadata": {},
   "outputs": [],
   "source": [
    "X_recovered = pca.inverse_transform(X_reduced)"
   ]
  },
  {
   "cell_type": "code",
   "execution_count": 22,
   "id": "50c20f88",
   "metadata": {},
   "outputs": [
    {
     "name": "stdout",
     "output_type": "stream",
     "text": [
      "0.9231435043544146\n"
     ]
    }
   ],
   "source": [
    "from sklearn.metrics import mean_squared_error \n",
    "\n",
    "print(mean_squared_error(X_train, X_recovered))"
   ]
  },
  {
   "cell_type": "markdown",
   "id": "d54fc8ea",
   "metadata": {},
   "source": [
    "### Randomized PCA"
   ]
  },
  {
   "cell_type": "code",
   "execution_count": 23,
   "id": "09406715",
   "metadata": {},
   "outputs": [],
   "source": [
    "rnd_pca = PCA(n_components=29, svd_solver=\"randomized\")\n",
    "X_reduced = rnd_pca.fit_transform(X_train)"
   ]
  },
  {
   "cell_type": "markdown",
   "id": "ba335747",
   "metadata": {},
   "source": [
    "### Incremental PCA (IPCA)"
   ]
  },
  {
   "cell_type": "code",
   "execution_count": 24,
   "id": "4d8f2b67",
   "metadata": {},
   "outputs": [
    {
     "name": "stdout",
     "output_type": "stream",
     "text": [
      "(1347, 64)\n"
     ]
    }
   ],
   "source": [
    "print(X_train.shape)"
   ]
  },
  {
   "cell_type": "code",
   "execution_count": 25,
   "id": "a78099e9",
   "metadata": {},
   "outputs": [],
   "source": [
    "from sklearn.decomposition import IncrementalPCA\n",
    "\n",
    "n_batches = 100\n",
    "inc_pca = IncrementalPCA(n_components=13)\n",
    "for X_batch in np.array_split(X_train, n_batches):\n",
    "    inc_pca.partial_fit(X_batch)\n",
    "\n",
    "X_reduced = inc_pca.transform(X_train)"
   ]
  },
  {
   "cell_type": "markdown",
   "id": "1f2e7c25",
   "metadata": {},
   "source": [
    "### Kernel PCA"
   ]
  },
  {
   "cell_type": "code",
   "execution_count": 26,
   "id": "b28acd58",
   "metadata": {},
   "outputs": [],
   "source": [
    "from sklearn.datasets import make_swiss_roll\n",
    "\n",
    "swiss_data = make_swiss_roll()"
   ]
  },
  {
   "cell_type": "code",
   "execution_count": 27,
   "id": "9a649214",
   "metadata": {},
   "outputs": [],
   "source": [
    "X_data = swiss_data[0]\n",
    "y_data = swiss_data[1]"
   ]
  },
  {
   "cell_type": "code",
   "execution_count": 28,
   "id": "0c325e45",
   "metadata": {},
   "outputs": [],
   "source": [
    "from sklearn.decomposition import KernelPCA\n",
    "\n",
    "rbf_pca = KernelPCA(n_components=2, kernel='rbf', gamma=0.04)\n",
    "X_reduced = rbf_pca.fit_transform(X_data)"
   ]
  },
  {
   "cell_type": "code",
   "execution_count": 29,
   "id": "0a9591db",
   "metadata": {},
   "outputs": [
    {
     "data": {
      "text/plain": [
       "(100, 2)"
      ]
     },
     "execution_count": 29,
     "metadata": {},
     "output_type": "execute_result"
    }
   ],
   "source": [
    "X_reduced.shape"
   ]
  },
  {
   "cell_type": "code",
   "execution_count": 30,
   "id": "8a427ca2",
   "metadata": {},
   "outputs": [
    {
     "data": {
      "text/plain": [
       "<matplotlib.collections.PathCollection at 0x7f9029b05820>"
      ]
     },
     "execution_count": 30,
     "metadata": {},
     "output_type": "execute_result"
    },
    {
     "data": {
      "image/png": "[encoded data removed]",
      "text/plain": [
       "<Figure size 640x480 with 1 Axes>"
      ]
     },
     "metadata": {},
     "output_type": "display_data"
    }
   ],
   "source": [
    "plt.scatter(X_reduced[:, 0], X_reduced[:, 1])"
   ]
  },
  {
   "cell_type": "markdown",
   "id": "34fca413",
   "metadata": {},
   "source": [
    "### Selecting a Kernel and Tuning Hyperparameters"
   ]
  },
  {
   "cell_type": "code",
   "execution_count": 31,
   "id": "cc60257a",
   "metadata": {},
   "outputs": [],
   "source": [
    "from sklearn.model_selection import GridSearchCV\n",
    "from sklearn.linear_model import LinearRegression\n",
    "from sklearn.pipeline import Pipeline"
   ]
  },
  {
   "cell_type": "code",
   "execution_count": 32,
   "id": "2672f156",
   "metadata": {},
   "outputs": [
    {
     "data": {
      "text/html": [
       "<style>#sk-container-id-2 {color: black;background-color: white;}#sk-container-id-2 pre{padding: 0;}#sk-container-id-2 div.sk-toggleable {background-color: white;}#sk-container-id-2 label.sk-toggleable__label {cursor: pointer;display: block;width: 100%;margin-bottom: 0;padding: 0.3em;box-sizing: border-box;text-align: center;}#sk-container-id-2 label.sk-toggleable__label-arrow:before {content: \"▸\";float: left;margin-right: 0.25em;color: #696969;}#sk-container-id-2 label.sk-toggleable__label-arrow:hover:before {color: black;}#sk-container-id-2 div.sk-estimator:hover label.sk-toggleable__label-arrow:before {color: black;}#sk-container-id-2 div.sk-toggleable__content {max-height: 0;max-width: 0;overflow: hidden;text-align: left;background-color: #f0f8ff;}#sk-container-id-2 div.sk-toggleable__content pre {margin: 0.2em;color: black;border-radius: 0.25em;background-color: #f0f8ff;}#sk-container-id-2 input.sk-toggleable__control:checked~div.sk-toggleable__content {max-height: 200px;max-width: 100%;overflow: auto;}#sk-container-id-2 input.sk-toggleable__control:checked~label.sk-toggleable__label-arrow:before {content: \"▾\";}#sk-container-id-2 div.sk-estimator input.sk-toggleable__control:checked~label.sk-toggleable__label {background-color: #d4ebff;}#sk-container-id-2 div.sk-label input.sk-toggleable__control:checked~label.sk-toggleable__label {background-color: #d4ebff;}#sk-container-id-2 input.sk-hidden--visually {border: 0;clip: rect(1px 1px 1px 1px);clip: rect(1px, 1px, 1px, 1px);height: 1px;margin: -1px;overflow: hidden;padding: 0;position: absolute;width: 1px;}#sk-container-id-2 div.sk-estimator {font-family: monospace;background-color: #f0f8ff;border: 1px dotted black;border-radius: 0.25em;box-sizing: border-box;margin-bottom: 0.5em;}#sk-container-id-2 div.sk-estimator:hover {background-color: #d4ebff;}#sk-container-id-2 div.sk-parallel-item::after {content: \"\";width: 100%;border-bottom: 1px solid gray;flex-grow: 1;}#sk-container-id-2 div.sk-label:hover label.sk-toggleable__label {background-color: #d4ebff;}#sk-container-id-2 div.sk-serial::before {content: \"\";position: absolute;border-left: 1px solid gray;box-sizing: border-box;top: 0;bottom: 0;left: 50%;z-index: 0;}#sk-container-id-2 div.sk-serial {display: flex;flex-direction: column;align-items: center;background-color: white;padding-right: 0.2em;padding-left: 0.2em;position: relative;}#sk-container-id-2 div.sk-item {position: relative;z-index: 1;}#sk-container-id-2 div.sk-parallel {display: flex;align-items: stretch;justify-content: center;background-color: white;position: relative;}#sk-container-id-2 div.sk-item::before, #sk-container-id-2 div.sk-parallel-item::before {content: \"\";position: absolute;border-left: 1px solid gray;box-sizing: border-box;top: 0;bottom: 0;left: 50%;z-index: -1;}#sk-container-id-2 div.sk-parallel-item {display: flex;flex-direction: column;z-index: 1;position: relative;background-color: white;}#sk-container-id-2 div.sk-parallel-item:first-child::after {align-self: flex-end;width: 50%;}#sk-container-id-2 div.sk-parallel-item:last-child::after {align-self: flex-start;width: 50%;}#sk-container-id-2 div.sk-parallel-item:only-child::after {width: 0;}#sk-container-id-2 div.sk-dashed-wrapped {border: 1px dashed gray;margin: 0 0.4em 0.5em 0.4em;box-sizing: border-box;padding-bottom: 0.4em;background-color: white;}#sk-container-id-2 div.sk-label label {font-family: monospace;font-weight: bold;display: inline-block;line-height: 1.2em;}#sk-container-id-2 div.sk-label-container {text-align: center;}#sk-container-id-2 div.sk-container {/* jupyter's `normalize.less` sets `[hidden] { display: none; }` but bootstrap.min.css set `[hidden] { display: none !important; }` so we also need the `!important` here to be able to override the default hidden behavior on the sphinx rendered scikit-learn.org. See: https://github.com/scikit-learn/scikit-learn/issues/21755 */display: inline-block !important;position: relative;}#sk-container-id-2 div.sk-text-repr-fallback {display: none;}</style><div id=\"sk-container-id-2\" class=\"sk-top-container\"><div class=\"sk-text-repr-fallback\"><pre>GridSearchCV(cv=3, error_score=&#x27;raise&#x27;,\n",
       "             estimator=Pipeline(steps=[(&#x27;kpca&#x27;, KernelPCA(n_components=2)),\n",
       "                                       (&#x27;log_reg&#x27;, LinearRegression())]),\n",
       "             param_grid=[{&#x27;kpca__gamma&#x27;: array([0.03      , 0.03222222, 0.03444444, 0.03666667, 0.03888889,\n",
       "       0.04111111, 0.04333333, 0.04555556, 0.04777778, 0.05      ]),\n",
       "                          &#x27;kpca__kernel&#x27;: [&#x27;rbf&#x27;, &#x27;sigmoid&#x27;]}])</pre><b>In a Jupyter environment, please rerun this cell to show the HTML representation or trust the notebook. <br />On GitHub, the HTML representation is unable to render, please try loading this page with nbviewer.org.</b></div><div class=\"sk-container\" hidden><div class=\"sk-item sk-dashed-wrapped\"><div class=\"sk-label-container\"><div class=\"sk-label sk-toggleable\"><input class=\"sk-toggleable__control sk-hidden--visually\" id=\"sk-estimator-id-2\" type=\"checkbox\" ><label for=\"sk-estimator-id-2\" class=\"sk-toggleable__label sk-toggleable__label-arrow\">GridSearchCV</label><div class=\"sk-toggleable__content\"><pre>GridSearchCV(cv=3, error_score=&#x27;raise&#x27;,\n",
       "             estimator=Pipeline(steps=[(&#x27;kpca&#x27;, KernelPCA(n_components=2)),\n",
       "                                       (&#x27;log_reg&#x27;, LinearRegression())]),\n",
       "             param_grid=[{&#x27;kpca__gamma&#x27;: array([0.03      , 0.03222222, 0.03444444, 0.03666667, 0.03888889,\n",
       "       0.04111111, 0.04333333, 0.04555556, 0.04777778, 0.05      ]),\n",
       "                          &#x27;kpca__kernel&#x27;: [&#x27;rbf&#x27;, &#x27;sigmoid&#x27;]}])</pre></div></div></div><div class=\"sk-parallel\"><div class=\"sk-parallel-item\"><div class=\"sk-item\"><div class=\"sk-label-container\"><div class=\"sk-label sk-toggleable\"><input class=\"sk-toggleable__control sk-hidden--visually\" id=\"sk-estimator-id-3\" type=\"checkbox\" ><label for=\"sk-estimator-id-3\" class=\"sk-toggleable__label sk-toggleable__label-arrow\">estimator: Pipeline</label><div class=\"sk-toggleable__content\"><pre>Pipeline(steps=[(&#x27;kpca&#x27;, KernelPCA(n_components=2)),\n",
       "                (&#x27;log_reg&#x27;, LinearRegression())])</pre></div></div></div><div class=\"sk-serial\"><div class=\"sk-item\"><div class=\"sk-serial\"><div class=\"sk-item\"><div class=\"sk-estimator sk-toggleable\"><input class=\"sk-toggleable__control sk-hidden--visually\" id=\"sk-estimator-id-4\" type=\"checkbox\" ><label for=\"sk-estimator-id-4\" class=\"sk-toggleable__label sk-toggleable__label-arrow\">KernelPCA</label><div class=\"sk-toggleable__content\"><pre>KernelPCA(n_components=2)</pre></div></div></div><div class=\"sk-item\"><div class=\"sk-estimator sk-toggleable\"><input class=\"sk-toggleable__control sk-hidden--visually\" id=\"sk-estimator-id-5\" type=\"checkbox\" ><label for=\"sk-estimator-id-5\" class=\"sk-toggleable__label sk-toggleable__label-arrow\">LinearRegression</label><div class=\"sk-toggleable__content\"><pre>LinearRegression()</pre></div></div></div></div></div></div></div></div></div></div></div></div>"
      ],
      "text/plain": [
       "GridSearchCV(cv=3, error_score='raise',\n",
       "             estimator=Pipeline(steps=[('kpca', KernelPCA(n_components=2)),\n",
       "                                       ('log_reg', LinearRegression())]),\n",
       "             param_grid=[{'kpca__gamma': array([0.03      , 0.03222222, 0.03444444, 0.03666667, 0.03888889,\n",
       "       0.04111111, 0.04333333, 0.04555556, 0.04777778, 0.05      ]),\n",
       "                          'kpca__kernel': ['rbf', 'sigmoid']}])"
      ]
     },
     "execution_count": 32,
     "metadata": {},
     "output_type": "execute_result"
    }
   ],
   "source": [
    "clf = Pipeline([\n",
    "    (\"kpca\", KernelPCA(n_components=2)),\n",
    "    (\"log_reg\", LinearRegression()),\n",
    "])\n",
    "\n",
    "param_grid = [{\n",
    "    \"kpca__gamma\": np.linspace(0.03, 0.05, 10),\n",
    "    \"kpca__kernel\": [\"rbf\", \"sigmoid\"],\n",
    "}]\n",
    "\n",
    "grid_search = GridSearchCV(clf, param_grid, cv=3, error_score='raise')\n",
    "grid_search.fit(X_data, y_data)"
   ]
  },
  {
   "cell_type": "code",
   "execution_count": 33,
   "id": "1e4a2b88",
   "metadata": {},
   "outputs": [
    {
     "name": "stdout",
     "output_type": "stream",
     "text": [
      "{'kpca__gamma': 0.05, 'kpca__kernel': 'rbf'}\n"
     ]
    }
   ],
   "source": [
    "print(grid_search.best_params_)"
   ]
  },
  {
   "cell_type": "code",
   "execution_count": 34,
   "id": "af644b48",
   "metadata": {},
   "outputs": [],
   "source": [
    "rbf_pca = KernelPCA(n_components=2, kernel='rbf', gamma=0.0433,\n",
    "                   fit_inverse_transform=True)\n",
    "X_reduced = rbf_pca.fit_transform(X_data)\n",
    "X_preimage = rbf_pca.inverse_transform(X_reduced)"
   ]
  },
  {
   "cell_type": "code",
   "execution_count": 35,
   "id": "4aa6db91",
   "metadata": {},
   "outputs": [
    {
     "data": {
      "text/plain": [
       "36.362605489387015"
      ]
     },
     "execution_count": 35,
     "metadata": {},
     "output_type": "execute_result"
    }
   ],
   "source": [
    "mean_squared_error(X_data, X_preimage)"
   ]
  },
  {
   "cell_type": "markdown",
   "id": "eb7b568a",
   "metadata": {},
   "source": [
    "## Locally Linear Embedding (LLE)"
   ]
  },
  {
   "cell_type": "code",
   "execution_count": 36,
   "id": "8a1a2ca3",
   "metadata": {},
   "outputs": [],
   "source": [
    "from sklearn.manifold import LocallyLinearEmbedding\n",
    "\n",
    "lle = LocallyLinearEmbedding(n_components=2, n_neighbors=10)\n",
    "X_reduced = lle.fit_transform(X_data)"
   ]
  },
  {
   "cell_type": "code",
   "execution_count": 37,
   "id": "ea6a257c",
   "metadata": {},
   "outputs": [
    {
     "data": {
      "text/plain": [
       "<matplotlib.collections.PathCollection at 0x7f902986d8b0>"
      ]
     },
     "execution_count": 37,
     "metadata": {},
     "output_type": "execute_result"
    },
    {
     "data": {
      "image/png": "[encoded data removed]",
      "text/plain": [
       "<Figure size 640x480 with 1 Axes>"
      ]
     },
     "metadata": {},
     "output_type": "display_data"
    }
   ],
   "source": [
    "plt.scatter(X_reduced[:,0], X_reduced[:,1])"
   ]
  },
  {
   "cell_type": "markdown",
   "id": "79d40df0",
   "metadata": {},
   "source": [
    "#### Step 1: Linearly modeling local relationships\n",
    "$\\widehat{W} = argmin_{W}~\\sum _{i=1}^{m} \\left(x^{(i)} - \\sum_{j=1}^{m} w_{i,j}x^{(j)}\\right)^{2}\\newline$\n",
    "Subject to: $\\begin{cases} w_{i,j} = 0, & \\mbox{if } x^{(j)}\\mbox{ is not one of the } k \\mbox{ c.n of} x^{(i)}\\\\ \\sum_{j=1}^{m}w_{i,j}=1, & \\mbox{for } i = 1,2,...,m \\end{cases}$"
   ]
  },
  {
   "cell_type": "markdown",
   "id": "9c358cb0",
   "metadata": {},
   "source": [
    "#### Step 2: Reducing dimensionality while preserving relationships\n",
    "$\\widehat{Z} = argmin_{Z} \\sum_{i=1}^{m}\\left(z^{(i)} - \\sum_{j=1}^{m}\\hat{w}_{i,j}z^{(j)}\\right)^{2}$"
   ]
  },
  {
   "cell_type": "markdown",
   "id": "51200fab",
   "metadata": {},
   "source": [
    "## Exercises"
   ]
  },
  {
   "cell_type": "markdown",
   "id": "69aea4c6",
   "metadata": {},
   "source": [
    "### Question 1:"
   ]
  },
  {
   "cell_type": "markdown",
   "id": "4857bb98",
   "metadata": {},
   "source": [
    "Reducing the dataset's dimensionality can improve significantly the time processing in the learning algorithm, which is a important aspect when considering the capabilities of your hardware. On the on the hand, this leads to lose of information, so it should be done carefully."
   ]
  },
  {
   "cell_type": "markdown",
   "id": "a604084c",
   "metadata": {},
   "source": [
    "### Question 2:"
   ]
  },
  {
   "cell_type": "markdown",
   "id": "b16fde67",
   "metadata": {},
   "source": [
    "It is really common in Machine Learning problems to come up with a very large number of features for each traning instance. This can makes training extremely slow, and it also makes it much harder to find a good solution. To this we called the curse of dimensionality."
   ]
  },
  {
   "cell_type": "markdown",
   "id": "f3677fca",
   "metadata": {},
   "source": [
    "### Question 3:"
   ]
  },
  {
   "cell_type": "markdown",
   "id": "39f844dc",
   "metadata": {},
   "source": [
    "Not totaly (due to the lost information), but some algorithms allow you to reverse the transformation getting closer to how it was before by decompressing the transformed data into the dimensional size it had before."
   ]
  },
  {
   "cell_type": "markdown",
   "id": "89df0135",
   "metadata": {},
   "source": [
    "### Question 4:"
   ]
  },
  {
   "cell_type": "markdown",
   "id": "106164c3",
   "metadata": {},
   "source": [
    "This can be done by using the variety of PCA called KernelPCA (kPCA), which uses the same kernel tricky saw in Support Vector Machines, a mathematical technique that implicitly maps instances into a very high-dimensional space (the feature space)"
   ]
  },
  {
   "cell_type": "markdown",
   "id": "157ee8f4",
   "metadata": {},
   "source": [
    "### Question 5:"
   ]
  },
  {
   "cell_type": "markdown",
   "id": "c183afa4",
   "metadata": {},
   "source": [
    "The resulting dimensionality for $95\\%$ explained variance ratio depends on the dataset not in it n-dimensional value. The number of resulting dimensions will be the smaller that preserves that explained variance ration. "
   ]
  },
  {
   "cell_type": "markdown",
   "id": "5a4bf341",
   "metadata": {},
   "source": [
    "### Question 6:"
   ]
  },
  {
   "cell_type": "markdown",
   "id": "b0e93f36",
   "metadata": {},
   "source": [
    "Vanilla PCA - When dealing with not to large datasets with linear relationship.$\\newline$\n",
    "Incremental PCA - When using a very large dataset, since it splits the data into mini-batches and apply PCA for each one.$\\newline$\n",
    "Randomized PCA - When d (the number of desired dimension) is much smaller than n (the number of instances).$\\newline$\n",
    "Kernel PCA - When dealing with a complex nonlinear dataset."
   ]
  },
  {
   "cell_type": "markdown",
   "id": "9dc5feb4",
   "metadata": {},
   "source": [
    "### Question 7:"
   ]
  },
  {
   "cell_type": "markdown",
   "id": "30befbff",
   "metadata": {},
   "source": [
    "This is possible by computing the mean_squared distance between the original and the transformed data."
   ]
  },
  {
   "cell_type": "markdown",
   "id": "41c22918",
   "metadata": {},
   "source": [
    "### Question 8:"
   ]
  },
  {
   "cell_type": "markdown",
   "id": "d0f9cfba",
   "metadata": {},
   "source": [
    "Not much, it seems that chaining different dimensionality reduction algorithms can lead to more loss of information, and turn it even harder to reverse."
   ]
  },
  {
   "cell_type": "markdown",
   "id": "5a290abb",
   "metadata": {},
   "source": [
    "### Question 9:"
   ]
  },
  {
   "cell_type": "code",
   "execution_count": 38,
   "id": "e84e4791",
   "metadata": {},
   "outputs": [],
   "source": [
    "from sklearn.datasets import fetch_openml\n",
    "\n",
    "mnist = fetch_openml('mnist_784', version=1)"
   ]
  },
  {
   "cell_type": "code",
   "execution_count": 39,
   "id": "7baf1898",
   "metadata": {},
   "outputs": [],
   "source": [
    "X, y = mnist[\"data\"], mnist[\"target\"]"
   ]
  },
  {
   "cell_type": "code",
   "execution_count": 40,
   "id": "7c63a0a2",
   "metadata": {},
   "outputs": [],
   "source": [
    "X_train, X_test, y_train, y_test = train_test_split(X, y, test_size=1/7)"
   ]
  },
  {
   "cell_type": "code",
   "execution_count": 41,
   "id": "97e4e69f",
   "metadata": {},
   "outputs": [],
   "source": [
    "from sklearn.ensemble import RandomForestClassifier\n",
    "import time\n",
    "\n",
    "rnd_clf = RandomForestClassifier()\n",
    "start = time.time()\n",
    "rnd_clf.fit(X_train, y_train)\n",
    "end = time.time()"
   ]
  },
  {
   "cell_type": "code",
   "execution_count": 42,
   "id": "f2570fcf",
   "metadata": {},
   "outputs": [
    {
     "name": "stdout",
     "output_type": "stream",
     "text": [
      "time to train:29.211852073669434\n",
      "score on test set:0.9717\n"
     ]
    }
   ],
   "source": [
    "print(f\"time to train:{end-start}\")\n",
    "print(f\"score on test set:{rnd_clf.score(X_test, y_test)}\")"
   ]
  },
  {
   "cell_type": "code",
   "execution_count": 47,
   "id": "a965eab8",
   "metadata": {},
   "outputs": [],
   "source": [
    "pca = PCA(n_components=0.95)\n",
    "X_reduced = pca.fit_transform(X)\n",
    "X_train, X_test, y_train, y_test = train_test_split(X_reduced, y, test_size=1/7)"
   ]
  },
  {
   "cell_type": "code",
   "execution_count": 48,
   "id": "0a2b8b8b",
   "metadata": {},
   "outputs": [],
   "source": [
    "start = time.time()\n",
    "rnd_clf.fit(X_train, y_train)\n",
    "end = time.time()"
   ]
  },
  {
   "cell_type": "code",
   "execution_count": 49,
   "id": "5471e96b",
   "metadata": {},
   "outputs": [
    {
     "name": "stdout",
     "output_type": "stream",
     "text": [
      "time to train:74.64893174171448\n",
      "score on test set:0.9518\n"
     ]
    }
   ],
   "source": [
    "print(f\"time to train:{end-start}\")\n",
    "print(f\"score on test set:{rnd_clf.score(X_test, y_test)}\")"
   ]
  },
  {
   "cell_type": "markdown",
   "id": "8a585b96",
   "metadata": {},
   "source": [
    "The training was actually faster than before, and the accuracy score was almost the same. I don't know why."
   ]
  },
  {
   "cell_type": "markdown",
   "id": "cbf208cc",
   "metadata": {},
   "source": [
    "### Question 10"
   ]
  },
  {
   "cell_type": "code",
   "execution_count": 50,
   "id": "16a5c048",
   "metadata": {},
   "outputs": [
    {
     "name": "stderr",
     "output_type": "stream",
     "text": [
      "/home/emanueloliveira/.local/lib/python3.8/site-packages/sklearn/manifold/_t_sne.py:800: FutureWarning: The default initialization in TSNE will change from 'random' to 'pca' in 1.2.\n",
      "  warnings.warn(\n",
      "/home/emanueloliveira/.local/lib/python3.8/site-packages/sklearn/manifold/_t_sne.py:810: FutureWarning: The default learning rate in TSNE will change from 200.0 to 'auto' in 1.2.\n",
      "  warnings.warn(\n"
     ]
    }
   ],
   "source": [
    "from sklearn.manifold import TSNE\n",
    "\n",
    "tsne = TSNE(n_components=2)\n",
    "X_tsne = tsne.fit_transform(X)"
   ]
  },
  {
   "cell_type": "code",
   "execution_count": 54,
   "id": "875535ac",
   "metadata": {},
   "outputs": [
    {
     "name": "stdout",
     "output_type": "stream",
     "text": [
      "(70000, 2)\n"
     ]
    }
   ],
   "source": [
    "print(X_tsne.shape)"
   ]
  },
  {
   "cell_type": "code",
   "execution_count": 73,
   "id": "0d4de95e",
   "metadata": {},
   "outputs": [],
   "source": [
    "digit0 = []\n",
    "digit1 = []\n",
    "digit2 = []\n",
    "digit3 = []\n",
    "digit4 = []\n",
    "digit5 = []\n",
    "digit6 = []\n",
    "digit7 = []\n",
    "digit8 = []\n",
    "digit9 = []\n",
    "for i in range(y.shape[0]):\n",
    "    if y[i] == '0':\n",
    "        digit0.append(X_tsne[i])\n",
    "    if y[i] == '1':\n",
    "        digit1.append(X_tsne[i])\n",
    "    if y[i] == '2':\n",
    "        digit2.append(X_tsne[i])\n",
    "    if y[i] == '3':\n",
    "        digit3.append(X_tsne[i])\n",
    "    if y[i] == '4':\n",
    "        digit4.append(X_tsne[i])\n",
    "    if y[i] == '5':\n",
    "        digit5.append(X_tsne[i])\n",
    "    if y[i] == '6':\n",
    "        digit6.append(X_tsne[i])\n",
    "    if y[i] == '7':\n",
    "        digit7.append(X_tsne[i])\n",
    "    if y[i] == '8':\n",
    "        digit8.append(X_tsne[i])\n",
    "    if y[i] == '9':\n",
    "        digit9.append(X_tsne[i])"
   ]
  },
  {
   "cell_type": "code",
   "execution_count": 75,
   "id": "431c2eaf",
   "metadata": {},
   "outputs": [],
   "source": [
    "digit0 = np.array(digit0)\n",
    "digit1 = np.array(digit1)\n",
    "digit2 = np.array(digit2)\n",
    "digit3 = np.array(digit3)\n",
    "digit4 = np.array(digit4)\n",
    "digit5 = np.array(digit5)\n",
    "digit6 = np.array(digit6)\n",
    "digit7 = np.array(digit7)\n",
    "digit8 = np.array(digit8)\n",
    "digit9 = np.array(digit9)"
   ]
  },
  {
   "cell_type": "code",
   "execution_count": 80,
   "id": "c68023e5",
   "metadata": {},
   "outputs": [
    {
     "data": {
      "image/png": "[encoded data removed]",
      "text/plain": [
       "<Figure size 640x480 with 1 Axes>"
      ]
     },
     "metadata": {},
     "output_type": "display_data"
    }
   ],
   "source": [
    "plt.scatter(digit0[:,0], digit0[:,1], label='0')\n",
    "plt.scatter(digit1[:,0], digit1[:,1], label='1')\n",
    "plt.scatter(digit2[:,0], digit2[:,1], label='2')\n",
    "plt.scatter(digit3[:,0], digit3[:,1], label='3')\n",
    "plt.scatter(digit4[:,0], digit4[:,1], label='4')\n",
    "plt.scatter(digit5[:,0], digit5[:,1], label='5')\n",
    "plt.scatter(digit6[:,0], digit6[:,1], label='6')\n",
    "plt.scatter(digit7[:,0], digit7[:,1], label='7')\n",
    "plt.scatter(digit8[:,0], digit8[:,1], label='8')\n",
    "plt.scatter(digit9[:,0], digit9[:,1], label='9')\n",
    "plt.legend()\n",
    "plt.show()"
   ]
  }
 ],
 "metadata": {
  "kernelspec": {
   "display_name": "Python 3 (ipykernel)",
   "language": "python",
   "name": "python3"
  },
  "language_info": {
   "codemirror_mode": {
    "name": "ipython",
    "version": 3
   },
   "file_extension": ".py",
   "mimetype": "text/x-python",
   "name": "python",
   "nbconvert_exporter": "python",
   "pygments_lexer": "ipython3",
   "version": "3.8.10"
  }
 },
 "nbformat": 4,
 "nbformat_minor": 5
}
